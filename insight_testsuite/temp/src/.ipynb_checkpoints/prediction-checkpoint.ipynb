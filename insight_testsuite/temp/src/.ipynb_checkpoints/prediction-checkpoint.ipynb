{
 "cells": [
  {
   "cell_type": "code",
   "execution_count": 1,
   "metadata": {},
   "outputs": [],
   "source": [
    "import pandas as pd\n",
    "import matplotlib.pyplot as plt\n",
    "\n",
    "%matplotlib inline"
   ]
  },
  {
   "cell_type": "code",
   "execution_count": 2,
   "metadata": {},
   "outputs": [],
   "source": [
    "#The file names\n",
    "file_predicted = \"../insight_testsuite/tests/test_2/input/predicted.txt\"\n",
    "file_actual = \"../insight_testsuite/tests/test_2/input/actual.txt\"\n",
    "file_window = \"../insight_testsuite/tests/test_2/input/window.txt\""
   ]
  },
  {
   "cell_type": "code",
   "execution_count": 3,
   "metadata": {},
   "outputs": [],
   "source": [
    "def parse_data(filename, names=['hour', 'stock_id', 'predicted']):\n",
    "    \n",
    "    df = pd.read_csv(filename, sep=\"|\", header=None, names=names)\n",
    "    df.sort_values(by=['hour','stock_id'])\n",
    "    \n",
    "    col = [str(hour)+stock_id for hour,stock_id in zip(list(df['hour']), list(df['stock_id']))]\n",
    "    df.index = col\n",
    "    \n",
    "    return df"
   ]
  },
  {
   "cell_type": "code",
   "execution_count": 4,
   "metadata": {},
   "outputs": [
    {
     "data": {
      "text/html": [
       "<div>\n",
       "<style scoped>\n",
       "    .dataframe tbody tr th:only-of-type {\n",
       "        vertical-align: middle;\n",
       "    }\n",
       "\n",
       "    .dataframe tbody tr th {\n",
       "        vertical-align: top;\n",
       "    }\n",
       "\n",
       "    .dataframe thead th {\n",
       "        text-align: right;\n",
       "    }\n",
       "</style>\n",
       "<table border=\"1\" class=\"dataframe\">\n",
       "  <thead>\n",
       "    <tr style=\"text-align: right;\">\n",
       "      <th></th>\n",
       "      <th>hour</th>\n",
       "      <th>stock_id</th>\n",
       "      <th>predicted</th>\n",
       "    </tr>\n",
       "  </thead>\n",
       "  <tbody>\n",
       "    <tr>\n",
       "      <th>1AMDDPW</th>\n",
       "      <td>1</td>\n",
       "      <td>AMDDPW</td>\n",
       "      <td>23.46</td>\n",
       "    </tr>\n",
       "    <tr>\n",
       "      <th>1CCKENL</th>\n",
       "      <td>1</td>\n",
       "      <td>CCKENL</td>\n",
       "      <td>25.27</td>\n",
       "    </tr>\n",
       "    <tr>\n",
       "      <th>1NELVVI</th>\n",
       "      <td>1</td>\n",
       "      <td>NELVVI</td>\n",
       "      <td>22.41</td>\n",
       "    </tr>\n",
       "    <tr>\n",
       "      <th>1LWZQMJ</th>\n",
       "      <td>1</td>\n",
       "      <td>LWZQMJ</td>\n",
       "      <td>19.14</td>\n",
       "    </tr>\n",
       "    <tr>\n",
       "      <th>1ZMGTBK</th>\n",
       "      <td>1</td>\n",
       "      <td>ZMGTBK</td>\n",
       "      <td>23.39</td>\n",
       "    </tr>\n",
       "  </tbody>\n",
       "</table>\n",
       "</div>"
      ],
      "text/plain": [
       "         hour stock_id  predicted\n",
       "1AMDDPW     1   AMDDPW      23.46\n",
       "1CCKENL     1   CCKENL      25.27\n",
       "1NELVVI     1   NELVVI      22.41\n",
       "1LWZQMJ     1   LWZQMJ      19.14\n",
       "1ZMGTBK     1   ZMGTBK      23.39"
      ]
     },
     "execution_count": 4,
     "metadata": {},
     "output_type": "execute_result"
    }
   ],
   "source": [
    "predicted = parse_data(file_predicted)\n",
    "predicted.head()"
   ]
  },
  {
   "cell_type": "code",
   "execution_count": 5,
   "metadata": {},
   "outputs": [
    {
     "data": {
      "text/html": [
       "<div>\n",
       "<style scoped>\n",
       "    .dataframe tbody tr th:only-of-type {\n",
       "        vertical-align: middle;\n",
       "    }\n",
       "\n",
       "    .dataframe tbody tr th {\n",
       "        vertical-align: top;\n",
       "    }\n",
       "\n",
       "    .dataframe thead th {\n",
       "        text-align: right;\n",
       "    }\n",
       "</style>\n",
       "<table border=\"1\" class=\"dataframe\">\n",
       "  <thead>\n",
       "    <tr style=\"text-align: right;\">\n",
       "      <th></th>\n",
       "      <th>hour</th>\n",
       "      <th>stock_id</th>\n",
       "      <th>actual</th>\n",
       "    </tr>\n",
       "  </thead>\n",
       "  <tbody>\n",
       "    <tr>\n",
       "      <th>1EDMMCA</th>\n",
       "      <td>1</td>\n",
       "      <td>EDMMCA</td>\n",
       "      <td>25.80</td>\n",
       "    </tr>\n",
       "    <tr>\n",
       "      <th>1AMDDPW</th>\n",
       "      <td>1</td>\n",
       "      <td>AMDDPW</td>\n",
       "      <td>23.46</td>\n",
       "    </tr>\n",
       "    <tr>\n",
       "      <th>1YZSGPL</th>\n",
       "      <td>1</td>\n",
       "      <td>YZSGPL</td>\n",
       "      <td>21.49</td>\n",
       "    </tr>\n",
       "    <tr>\n",
       "      <th>1CCKENL</th>\n",
       "      <td>1</td>\n",
       "      <td>CCKENL</td>\n",
       "      <td>25.27</td>\n",
       "    </tr>\n",
       "    <tr>\n",
       "      <th>1NELVVI</th>\n",
       "      <td>1</td>\n",
       "      <td>NELVVI</td>\n",
       "      <td>22.41</td>\n",
       "    </tr>\n",
       "  </tbody>\n",
       "</table>\n",
       "</div>"
      ],
      "text/plain": [
       "         hour stock_id  actual\n",
       "1EDMMCA     1   EDMMCA   25.80\n",
       "1AMDDPW     1   AMDDPW   23.46\n",
       "1YZSGPL     1   YZSGPL   21.49\n",
       "1CCKENL     1   CCKENL   25.27\n",
       "1NELVVI     1   NELVVI   22.41"
      ]
     },
     "execution_count": 5,
     "metadata": {},
     "output_type": "execute_result"
    }
   ],
   "source": [
    "actual = parse_data(file_actual, names=['hour', 'stock_id', 'actual'])\n",
    "actual.head()"
   ]
  },
  {
   "cell_type": "code",
   "execution_count": 6,
   "metadata": {},
   "outputs": [
    {
     "name": "stdout",
     "output_type": "stream",
     "text": [
      "4\n"
     ]
    }
   ],
   "source": [
    "window = int(open(file_window,\"r\").readlines()[0])\n",
    "print(window)"
   ]
  },
  {
   "cell_type": "code",
   "execution_count": 18,
   "metadata": {},
   "outputs": [
    {
     "name": "stdout",
     "output_type": "stream",
     "text": [
      "(114194, 3) (142560, 3) (114194, 3)\n",
      "0\n"
     ]
    },
    {
     "data": {
      "text/html": [
       "<div>\n",
       "<style scoped>\n",
       "    .dataframe tbody tr th:only-of-type {\n",
       "        vertical-align: middle;\n",
       "    }\n",
       "\n",
       "    .dataframe tbody tr th {\n",
       "        vertical-align: top;\n",
       "    }\n",
       "\n",
       "    .dataframe thead th {\n",
       "        text-align: right;\n",
       "    }\n",
       "</style>\n",
       "<table border=\"1\" class=\"dataframe\">\n",
       "  <thead>\n",
       "    <tr style=\"text-align: right;\">\n",
       "      <th></th>\n",
       "      <th>hour</th>\n",
       "      <th>stock_id</th>\n",
       "      <th>actual</th>\n",
       "    </tr>\n",
       "  </thead>\n",
       "  <tbody>\n",
       "    <tr>\n",
       "      <th>1AMDDPW</th>\n",
       "      <td>1</td>\n",
       "      <td>AMDDPW</td>\n",
       "      <td>23.46</td>\n",
       "    </tr>\n",
       "    <tr>\n",
       "      <th>1CCKENL</th>\n",
       "      <td>1</td>\n",
       "      <td>CCKENL</td>\n",
       "      <td>25.27</td>\n",
       "    </tr>\n",
       "    <tr>\n",
       "      <th>1NELVVI</th>\n",
       "      <td>1</td>\n",
       "      <td>NELVVI</td>\n",
       "      <td>22.41</td>\n",
       "    </tr>\n",
       "    <tr>\n",
       "      <th>1LWZQMJ</th>\n",
       "      <td>1</td>\n",
       "      <td>LWZQMJ</td>\n",
       "      <td>19.14</td>\n",
       "    </tr>\n",
       "    <tr>\n",
       "      <th>1ZMGTBK</th>\n",
       "      <td>1</td>\n",
       "      <td>ZMGTBK</td>\n",
       "      <td>23.39</td>\n",
       "    </tr>\n",
       "  </tbody>\n",
       "</table>\n",
       "</div>"
      ],
      "text/plain": [
       "         hour stock_id  actual\n",
       "1AMDDPW     1   AMDDPW   23.46\n",
       "1CCKENL     1   CCKENL   25.27\n",
       "1NELVVI     1   NELVVI   22.41\n",
       "1LWZQMJ     1   LWZQMJ   19.14\n",
       "1ZMGTBK     1   ZMGTBK   23.39"
      ]
     },
     "execution_count": 18,
     "metadata": {},
     "output_type": "execute_result"
    }
   ],
   "source": [
    "sub = actual.loc[predicted.index] \n",
    "print(sub.shape, actual.shape, predicted.shape)\n",
    "#print(sub.actual == predicted.predicted)\n",
    "print(sum(sub.index != predicted.index))\n",
    "sub.head()"
   ]
  },
  {
   "cell_type": "code",
   "execution_count": null,
   "metadata": {},
   "outputs": [],
   "source": []
  },
  {
   "cell_type": "code",
   "execution_count": 10,
   "metadata": {},
   "outputs": [
    {
     "name": "stdout",
     "output_type": "stream",
     "text": [
      "(114194, 4)\n"
     ]
    },
    {
     "data": {
      "text/html": [
       "<div>\n",
       "<style scoped>\n",
       "    .dataframe tbody tr th:only-of-type {\n",
       "        vertical-align: middle;\n",
       "    }\n",
       "\n",
       "    .dataframe tbody tr th {\n",
       "        vertical-align: top;\n",
       "    }\n",
       "\n",
       "    .dataframe thead th {\n",
       "        text-align: right;\n",
       "    }\n",
       "</style>\n",
       "<table border=\"1\" class=\"dataframe\">\n",
       "  <thead>\n",
       "    <tr style=\"text-align: right;\">\n",
       "      <th></th>\n",
       "      <th>hour</th>\n",
       "      <th>stock_id</th>\n",
       "      <th>actual</th>\n",
       "      <th>predicted</th>\n",
       "    </tr>\n",
       "  </thead>\n",
       "  <tbody>\n",
       "    <tr>\n",
       "      <th>0</th>\n",
       "      <td>1</td>\n",
       "      <td>AMDDPW</td>\n",
       "      <td>23.46</td>\n",
       "      <td>23.46</td>\n",
       "    </tr>\n",
       "    <tr>\n",
       "      <th>1</th>\n",
       "      <td>1</td>\n",
       "      <td>CCKENL</td>\n",
       "      <td>25.27</td>\n",
       "      <td>25.27</td>\n",
       "    </tr>\n",
       "    <tr>\n",
       "      <th>2</th>\n",
       "      <td>1</td>\n",
       "      <td>NELVVI</td>\n",
       "      <td>22.41</td>\n",
       "      <td>22.41</td>\n",
       "    </tr>\n",
       "    <tr>\n",
       "      <th>3</th>\n",
       "      <td>1</td>\n",
       "      <td>LWZQMJ</td>\n",
       "      <td>19.14</td>\n",
       "      <td>19.14</td>\n",
       "    </tr>\n",
       "    <tr>\n",
       "      <th>4</th>\n",
       "      <td>1</td>\n",
       "      <td>ZMGTBK</td>\n",
       "      <td>23.39</td>\n",
       "      <td>23.39</td>\n",
       "    </tr>\n",
       "  </tbody>\n",
       "</table>\n",
       "</div>"
      ],
      "text/plain": [
       "   hour stock_id  actual  predicted\n",
       "0     1   AMDDPW   23.46      23.46\n",
       "1     1   CCKENL   25.27      25.27\n",
       "2     1   NELVVI   22.41      22.41\n",
       "3     1   LWZQMJ   19.14      19.14\n",
       "4     1   ZMGTBK   23.39      23.39"
      ]
     },
     "execution_count": 10,
     "metadata": {},
     "output_type": "execute_result"
    }
   ],
   "source": [
    "merged_result = pd.merge(actual, predicted, on=['hour', 'stock_id']) \n",
    "print(merged_result.shape)\n",
    "merged_result.head()"
   ]
  },
  {
   "cell_type": "code",
   "execution_count": 11,
   "metadata": {},
   "outputs": [
    {
     "name": "stdout",
     "output_type": "stream",
     "text": [
      "1 1440\n"
     ]
    }
   ],
   "source": [
    "#get maximum time\n",
    "min_time = min(sub.hour)\n",
    "max_time = max(sub.hour)\n",
    "print(min_time, max_time)"
   ]
  },
  {
   "cell_type": "code",
   "execution_count": null,
   "metadata": {},
   "outputs": [],
   "source": [
    "def get_err(df):\n",
    "    \n",
    "    min_time = df.iloc[df.index[0]].hour\n",
    "    max_time = df.iloc[df.index[-1]].hour\n",
    "    window = 2\n",
    "    \n",
    "    results = {}\n",
    "    for time in range(min_time, (max_time-window+1)+1):\n",
    "        \n",
    "        end_time = time + window - 1\n",
    "        ibool = (df['hour'] >= time) & (df['hour'] <= end_time)\n",
    "        idf = df[ibool]\n",
    "        err = abs(idf['actual']-idf['predicted']).mean()\n",
    "        \n",
    "        results[time] = [time, end_time, err]\n",
    "        \n",
    "    results = pd.DataFrame(results).T\n",
    "    results.columns = ['start_hour', 'end_hour', 'error']\n",
    "    \n",
    "    return results\n",
    "\n",
    "results = get_err(merged_result)"
   ]
  },
  {
   "cell_type": "code",
   "execution_count": null,
   "metadata": {},
   "outputs": [],
   "source": [
    "results['start_hour'] = results['start_hour'].map(lambda x: '%d'%(x)) \n",
    "results['end_hour'] = results['end_hour'].map(lambda x: '%d'%(x))\n",
    "pd.DataFrame(results).to_csv('../comparison1.txt', sep='|', index=False, header=False, float_format='%3.2f')"
   ]
  }
 ],
 "metadata": {
  "kernelspec": {
   "display_name": "Python 3",
   "language": "python",
   "name": "python3"
  },
  "language_info": {
   "codemirror_mode": {
    "name": "ipython",
    "version": 3
   },
   "file_extension": ".py",
   "mimetype": "text/x-python",
   "name": "python",
   "nbconvert_exporter": "python",
   "pygments_lexer": "ipython3",
   "version": "3.6.4"
  }
 },
 "nbformat": 4,
 "nbformat_minor": 2
}
